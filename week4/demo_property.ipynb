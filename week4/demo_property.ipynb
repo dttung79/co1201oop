{
 "cells": [
  {
   "cell_type": "code",
   "execution_count": 1,
   "metadata": {},
   "outputs": [],
   "source": [
    "class Student:\n",
    "    def __init__(self, name, age):\n",
    "        self.__name = name\n",
    "        self.__age = age\n",
    "    \n",
    "    # traditional get/set methods\n",
    "    def get_name(self):\n",
    "        return self.__name\n",
    "    \n",
    "    def set_name(self, name):\n",
    "        if name == \"\":\n",
    "            print(\"Name cannot be empty\")\n",
    "        else:\n",
    "            self.__name = name\n",
    "\n",
    "    @property\n",
    "    def age(self):\n",
    "        return self.__age\n",
    "    \n",
    "    @age.setter\n",
    "    def age(self, age):\n",
    "        if age < 0:\n",
    "            print(\"Age cannot be negative\")\n",
    "        else:\n",
    "            self.__age = age"
   ]
  },
  {
   "cell_type": "code",
   "execution_count": 3,
   "metadata": {},
   "outputs": [
    {
     "name": "stdout",
     "output_type": "stream",
     "text": [
      "John 20\n",
      "John Doe 21\n"
     ]
    }
   ],
   "source": [
    "john = Student(\"John\", 20)\n",
    "print(john.get_name(), john.age)\n",
    "\n",
    "john.set_name(\"John Doe\")\n",
    "john.age = 21\n",
    "print(john.get_name(), john.age)"
   ]
  }
 ],
 "metadata": {
  "kernelspec": {
   "display_name": "Python 3",
   "language": "python",
   "name": "python3"
  },
  "language_info": {
   "codemirror_mode": {
    "name": "ipython",
    "version": 3
   },
   "file_extension": ".py",
   "mimetype": "text/x-python",
   "name": "python",
   "nbconvert_exporter": "python",
   "pygments_lexer": "ipython3",
   "version": "3.9.12"
  }
 },
 "nbformat": 4,
 "nbformat_minor": 2
}
