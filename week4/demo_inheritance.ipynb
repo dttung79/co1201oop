{
 "cells": [
  {
   "cell_type": "code",
   "execution_count": 13,
   "metadata": {},
   "outputs": [],
   "source": [
    "class LightBulb:\n",
    "    def __init__(self, name):\n",
    "        self.__name = name\n",
    "        self.__light = False    # by default, light is off\n",
    "    \n",
    "    @property\n",
    "    def name(self):\n",
    "        return self.__name\n",
    "    \n",
    "    @name.setter\n",
    "    def name(self, value):\n",
    "        self.__name = value\n",
    "    \n",
    "    @property\n",
    "    def light(self):\n",
    "        return self.__light\n",
    "\n",
    "    def turn_on(self):\n",
    "        self.__light = True\n",
    "\n",
    "    def turn_off(self):\n",
    "        self.__light = False\n",
    "    \n",
    "    def show(self):\n",
    "        print(f\"{self.__name} is {'on' if self.__light else 'off'}\")"
   ]
  },
  {
   "cell_type": "code",
   "execution_count": 14,
   "metadata": {},
   "outputs": [
    {
     "name": "stdout",
     "output_type": "stream",
     "text": [
      "BedRoom Light is off\n",
      "BedRoom Light is on\n"
     ]
    }
   ],
   "source": [
    "bedroom_light = LightBulb('BedRoom Light')\n",
    "bedroom_light.show()\n",
    "bedroom_light.turn_on()\n",
    "bedroom_light.show()"
   ]
  },
  {
   "cell_type": "code",
   "execution_count": 15,
   "metadata": {},
   "outputs": [],
   "source": [
    "class ColorLightBulb(LightBulb): # class A(B): means class A inherits from class B\n",
    "    def __init__(self, name, color):\n",
    "        super().__init__(name)   # call the constructor from super class (LightBulb)\n",
    "        self.__color = color\n",
    "    \n",
    "    @property\n",
    "    def color(self):\n",
    "        return self.__color\n",
    "    \n",
    "    @color.setter\n",
    "    def color(self, value):\n",
    "        self.__color = value\n",
    "    \n",
    "    def show(self):\n",
    "        super().show() # call the method show from super class (LightBulg)\n",
    "        # add new code to show color\n",
    "        if self.light: # use the property, cannot access self.__light directrly because it's private\n",
    "            print(f'Color:  {self.color}')\n",
    "        else:\n",
    "            print('No color when light is off')"
   ]
  },
  {
   "cell_type": "code",
   "execution_count": 16,
   "metadata": {},
   "outputs": [
    {
     "name": "stdout",
     "output_type": "stream",
     "text": [
      "BedRoom Light is on\n",
      "Color:  yellow\n",
      "BedRoom Light is off\n",
      "No color when light is off\n"
     ]
    }
   ],
   "source": [
    "bedroom_light = ColorLightBulb('BedRoom Light', 'yellow')\n",
    "bedroom_light.turn_on()\n",
    "bedroom_light.show()\n",
    "bedroom_light.turn_off()\n",
    "bedroom_light.show()"
   ]
  },
  {
   "cell_type": "code",
   "execution_count": 19,
   "metadata": {},
   "outputs": [],
   "source": [
    "class MultiColorLightBulb(ColorLightBulb):\n",
    "    def __init__(self, name):\n",
    "        super().__init__(name, 'white')    # call the constructor from ColorLightBulb\n",
    "        self.__current = 0                 # index for current color\n",
    "    \n",
    "    def turn_on(self):\n",
    "        colors = ['white', 'yellow', 'red']\n",
    "        self.__current = (self.__current + 1) % 3\n",
    "        self.color = colors[self.__current]\n",
    "        super().turn_on()"
   ]
  },
  {
   "cell_type": "code",
   "execution_count": 20,
   "metadata": {},
   "outputs": [
    {
     "name": "stdout",
     "output_type": "stream",
     "text": [
      "Bedroom Light is off\n",
      "No color when light is off\n",
      "Bedroom Light is on\n",
      "Color:  yellow\n",
      "Bedroom Light is on\n",
      "Color:  red\n",
      "Bedroom Light is on\n",
      "Color:  white\n"
     ]
    }
   ],
   "source": [
    "bedroom_light = MultiColorLightBulb('Bedroom Light')\n",
    "bedroom_light.show()\n",
    "bedroom_light.turn_on()\n",
    "bedroom_light.show()\n",
    "bedroom_light.turn_on()\n",
    "bedroom_light.show()\n",
    "bedroom_light.turn_on()\n",
    "bedroom_light.show()"
   ]
  }
 ],
 "metadata": {
  "kernelspec": {
   "display_name": "Python 3",
   "language": "python",
   "name": "python3"
  },
  "language_info": {
   "codemirror_mode": {
    "name": "ipython",
    "version": 3
   },
   "file_extension": ".py",
   "mimetype": "text/x-python",
   "name": "python",
   "nbconvert_exporter": "python",
   "pygments_lexer": "ipython3",
   "version": "3.9.12"
  }
 },
 "nbformat": 4,
 "nbformat_minor": 2
}
