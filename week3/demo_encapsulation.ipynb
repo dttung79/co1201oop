{
 "cells": [
  {
   "cell_type": "code",
   "execution_count": 33,
   "metadata": {},
   "outputs": [],
   "source": [
    "class Employee:\n",
    "    def __init__(self, name, salary, years):\n",
    "        self.__name = name\n",
    "        self.__salary = salary\n",
    "        self.__years = years\n",
    "    \n",
    "    def get_name(self):\n",
    "        return self.__name\n",
    "    \n",
    "    def set_name(self, name):\n",
    "        if name == '':\n",
    "            print('Name cannot be empty')\n",
    "            return\n",
    "        self.__name = name\n",
    "    \n",
    "    def get_salary(self):\n",
    "        return self.__salary\n",
    "\n",
    "    def set_salary(self, salary):\n",
    "        if salary < 0:\n",
    "            print('Salary cannot be negative')\n",
    "            return\n",
    "        self.__salary = salary\n",
    "    \n",
    "    def get_years(self):\n",
    "        return self.__years\n",
    "\n",
    "    def set_years(self, years):\n",
    "        if years < 0:\n",
    "            print('Years of experience cannot be negative')\n",
    "            return\n",
    "        self.__years = years\n",
    "    \n",
    "    def show(self):\n",
    "        print(f'Employee: {self.__name}, salary: ${self.__salary}, years of experience: {self.__years}')"
   ]
  },
  {
   "cell_type": "code",
   "execution_count": 34,
   "metadata": {},
   "outputs": [
    {
     "name": "stdout",
     "output_type": "stream",
     "text": [
      "Employee: Paul, salary: $50000, years of experience: 3\n",
      "Employee: Paul McCartney, salary: $100000, years of experience: 10\n",
      "Name cannot be empty\n",
      "Salary cannot be negative\n",
      "Years of experience cannot be negative\n",
      "Employee: Paul McCartney, salary: $100000, years of experience: 10\n"
     ]
    }
   ],
   "source": [
    "paul = Employee('Paul', 50000, 3)\n",
    "paul.show()\n",
    "\n",
    "paul.set_name('Paul McCartney')\n",
    "paul.set_salary(100000)\n",
    "paul.set_years(10)\n",
    "\n",
    "paul.show()\n",
    "\n",
    "paul.set_name('')\n",
    "paul.set_salary(-100000)\n",
    "paul.set_years(-10)\n",
    "\n",
    "paul.show()"
   ]
  }
 ],
 "metadata": {
  "kernelspec": {
   "display_name": "Python 3",
   "language": "python",
   "name": "python3"
  },
  "language_info": {
   "codemirror_mode": {
    "name": "ipython",
    "version": 3
   },
   "file_extension": ".py",
   "mimetype": "text/x-python",
   "name": "python",
   "nbconvert_exporter": "python",
   "pygments_lexer": "ipython3",
   "version": "3.9.12"
  }
 },
 "nbformat": 4,
 "nbformat_minor": 2
}
