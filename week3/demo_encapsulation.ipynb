{
 "cells": [
  {
   "cell_type": "code",
   "execution_count": 5,
   "metadata": {},
   "outputs": [],
   "source": [
    "class Employee:\n",
    "    def __init__(self, name, salary, years):\n",
    "        self.__name = name\n",
    "        self.__salary = salary\n",
    "        self.__years = years\n",
    "    \n",
    "    def get_name(self):\n",
    "        return self.__name\n",
    "    \n",
    "    def set_name(self, name):\n",
    "        if name == '':\n",
    "            print('Name cannot be empty')\n",
    "            return\n",
    "        self.__name = name\n",
    "    \n",
    "    def get_salary(self):\n",
    "        return self.__salary\n",
    "\n",
    "    def set_salary(self, salary):\n",
    "        if salary < 0:\n",
    "            print('Salary cannot be negative')\n",
    "            return\n",
    "        self.__salary = salary\n",
    "    \n",
    "    def get_years(self):\n",
    "        return self.__years\n",
    "\n",
    "    def set_years(self, years):\n",
    "        if years < 0:\n",
    "            print('Years of experience cannot be negative')\n",
    "            return\n",
    "        self.__years = years\n",
    "    \n",
    "    def show(self):\n",
    "        print(f'Employee: {self.__name}, salary: ${self.__salary}, years of experience: {self.__years}')"
   ]
  },
  {
   "cell_type": "code",
   "execution_count": 6,
   "metadata": {},
   "outputs": [
    {
     "name": "stdout",
     "output_type": "stream",
     "text": [
      "Employee: Paul, salary: $50000, years of experience: 3\n",
      "Employee: Paul McCartney, salary: $100000, years of experience: 10\n",
      "Name cannot be empty\n",
      "Salary cannot be negative\n",
      "Years of experience cannot be negative\n",
      "Employee: Paul McCartney, salary: $100000, years of experience: 10\n"
     ]
    }
   ],
   "source": [
    "paul = Employee('Paul', 50000, 3)\n",
    "paul.show()\n",
    "\n",
    "paul.set_name('Paul McCartney')\n",
    "paul.set_salary(100000)\n",
    "paul.set_years(10)\n",
    "\n",
    "paul.show()\n",
    "\n",
    "paul.set_name('')\n",
    "paul.set_salary(-100000)\n",
    "paul.set_years(-10)\n",
    "\n",
    "paul.show()"
   ]
  },
  {
   "cell_type": "code",
   "execution_count": 11,
   "metadata": {},
   "outputs": [],
   "source": [
    "class Company:\n",
    "    def __init__(self, name):\n",
    "        self.__name = name\n",
    "        self.__employees = []\n",
    "    \n",
    "    def get_name(self):\n",
    "        return self.__name\n",
    "    \n",
    "    def set_name(self, name):\n",
    "        if name == '':\n",
    "            print('Name cannot be empty')\n",
    "            return\n",
    "        self.__name = name\n",
    "    \n",
    "    def add_employee(self, employee):\n",
    "        self.__employees.append(employee)\n",
    "        print(f'Employeee {employee.get_name()} added to the company!')\n",
    "    \n",
    "    def remove_employee(self, name):\n",
    "        for e in self.__employees:\n",
    "            if e.name == name:\n",
    "                self.__employees.remove(e)\n",
    "                print(f'Employee {name} removed from the company!')\n",
    "                return\n",
    "        print(f'Employee {name} not found in the company!')\n",
    "    \n",
    "    def show(self):\n",
    "        print(f'Company: {self.__name}')\n",
    "        print('Employees:')\n",
    "        for e in self.__employees:\n",
    "            e.show()\n",
    "    \n",
    "    def raise_salary(self, employee, amount):\n",
    "        old_salary = employee.get_salary()\n",
    "        new_salary = old_salary + amount\n",
    "        employee.set_salary(new_salary)"
   ]
  },
  {
   "cell_type": "code",
   "execution_count": 13,
   "metadata": {},
   "outputs": [
    {
     "name": "stdout",
     "output_type": "stream",
     "text": [
      "Employeee John added to the company!\n",
      "Employeee Paul added to the company!\n",
      "Employeee Mike added to the company!\n",
      "Employeee Anna added to the company!\n",
      "Company: Apple\n",
      "Employees:\n",
      "Employee: John, salary: $60000, years of experience: 5\n",
      "Employee: Paul, salary: $50000, years of experience: 3\n",
      "Employee: Mike, salary: $70000, years of experience: 7\n",
      "Employee: Anna, salary: $40000, years of experience: 2\n"
     ]
    }
   ],
   "source": [
    "john = Employee('John', 60000, 5)\n",
    "paul = Employee('Paul', 50000, 3)\n",
    "mike = Employee('Mike', 70000, 7)\n",
    "anna = Employee('Anna', 40000, 2)\n",
    "\n",
    "apple = Company('Apple')\n",
    "apple.add_employee(john)\n",
    "apple.add_employee(paul)\n",
    "apple.add_employee(mike)\n",
    "apple.add_employee(anna)\n",
    "\n",
    "apple.show()"
   ]
  },
  {
   "cell_type": "code",
   "execution_count": 14,
   "metadata": {},
   "outputs": [
    {
     "name": "stdout",
     "output_type": "stream",
     "text": [
      "Company: Apple\n",
      "Employees:\n",
      "Employee: John, salary: $70000, years of experience: 5\n",
      "Employee: Paul, salary: $50000, years of experience: 3\n",
      "Employee: Mike, salary: $70000, years of experience: 7\n",
      "Employee: Anna, salary: $40000, years of experience: 2\n"
     ]
    }
   ],
   "source": [
    "apple.raise_salary(john, 10000)\n",
    "apple.show()"
   ]
  }
 ],
 "metadata": {
  "kernelspec": {
   "display_name": "Python 3",
   "language": "python",
   "name": "python3"
  },
  "language_info": {
   "codemirror_mode": {
    "name": "ipython",
    "version": 3
   },
   "file_extension": ".py",
   "mimetype": "text/x-python",
   "name": "python",
   "nbconvert_exporter": "python",
   "pygments_lexer": "ipython3",
   "version": "3.9.12"
  }
 },
 "nbformat": 4,
 "nbformat_minor": 2
}
